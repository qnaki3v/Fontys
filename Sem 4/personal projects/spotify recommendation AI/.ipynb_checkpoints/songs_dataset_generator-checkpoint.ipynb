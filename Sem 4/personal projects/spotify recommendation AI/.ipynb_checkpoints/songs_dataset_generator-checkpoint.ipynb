{
 "cells": [
  {
   "cell_type": "code",
   "execution_count": 10,
   "metadata": {},
   "outputs": [],
   "source": [
    "import spotipy\n",
    "from spotipy.oauth2 import SpotifyClientCredentials"
   ]
  },
  {
   "cell_type": "code",
   "execution_count": 11,
   "metadata": {},
   "outputs": [],
   "source": [
    "#Authentication - without user\n",
    "client_credentials_manager = SpotifyClientCredentials(client_id=\"6e0fd10ec9424cf6bb1df33461acf368\", client_secret=\"1c895be5855f45128dcc704a3f9cdad0\")\n",
    "sp = spotipy.Spotify(client_credentials_manager = client_credentials_manager)"
   ]
  },
  {
   "cell_type": "code",
   "execution_count": 12,
   "metadata": {},
   "outputs": [],
   "source": [
    "playlist_link = \"https://open.spotify.com/playlist/37i9dQZEVXbNG2KDcFcKOF?si=1333723a6eff4b7f\"\n",
    "playlist_URI = playlist_link.split(\"/\")[-1].split(\"?\")[0]\n",
    "track_uris = [x[\"track\"][\"uri\"] for x in sp.playlist_tracks(playlist_URI)[\"items\"]]\n",
    "track_names = [x[\"track\"][\"name\"] for x in sp.playlist_tracks(playlist_URI)[\"items\"]]"
   ]
  },
  {
   "cell_type": "code",
   "execution_count": 13,
   "metadata": {},
   "outputs": [],
   "source": [
    "for track in sp.playlist_tracks(playlist_URI)[\"items\"]:\n",
    "    #URI\n",
    "    track_uri = track[\"track\"][\"uri\"]\n",
    "    \n",
    "    #Track name\n",
    "    track_name = track[\"track\"][\"name\"]\n",
    "    \n",
    "    #Main Artist\n",
    "    artist_uri = track[\"track\"][\"artists\"][0][\"uri\"]\n",
    "    artist_info = sp.artist(artist_uri)\n",
    "    \n",
    "    #Name, popularity, genre\n",
    "    artist_name = track[\"track\"][\"artists\"][0][\"name\"]\n",
    "    artist_pop = artist_info[\"popularity\"]\n",
    "    artist_genres = artist_info[\"genres\"]\n",
    "    \n",
    "    #Album\n",
    "    album = track[\"track\"][\"album\"][\"name\"]\n",
    "    \n",
    "    #Popularity of the track\n",
    "    track_pop = track[\"track\"][\"popularity\"]"
   ]
  },
  {
   "cell_type": "code",
   "execution_count": 15,
   "metadata": {},
   "outputs": [
    {
     "name": "stdout",
     "output_type": "stream",
     "text": [
      "Please Please Please\n",
      "Espresso\n",
      "BIRDS OF A FEATHER\n",
      "MILLION DOLLAR BABY\n",
      "Gata Only\n",
      "Too Sweet\n",
      "Beautiful Things\n",
      "Houdini\n",
      "A Bar Song (Tipsy)\n",
      "I Had Some Help (Feat. Morgan Wallen)\n",
      "LUNCH\n",
      "Not Like Us\n",
      "REAL GANGSTA LOVE\n",
      "i like the way you kiss me\n",
      "CHIHIRO\n",
      "Lose Control\n",
      "we can't be friends (wait for your love)\n",
      "Good Luck, Babe!\n",
      "End of Beginning\n",
      "Stargazing\n",
      "BAND4BAND (feat. Lil Baby)\n",
      "Fortnight (feat. Post Malone)\n",
      "Cruel Summer\n",
      "One Of The Girls (with JENNIE, Lily Rose Depp)\n",
      "Santa\n",
      "As It Was\n",
      "Slow It Down\n",
      "Austin (Boots Stop Workin')\n",
      "Pink Skies\n",
      "Sweater Weather\n",
      "Belong Together\n",
      "LUNA\n",
      "SI NO ES CONTIGO\n",
      "The Night We Met\n",
      "I Wanna Be Yours\n",
      "Si No Quieres No\n",
      "I Can Do It With a Broken Heart\n",
      "SORRY 4 THAT MUCH\n",
      "Riptide\n",
      "WILDFLOWER\n",
      "Stick Season\n",
      "Saturn\n",
      "Feather\n",
      "Volver Al Futuro\n",
      "Yellow\n",
      "I Don't Wanna Wait\n",
      "greedy\n",
      "Locked out of Heaven\n",
      "FE!N (feat. Playboi Carti)\n",
      "Like That\n"
     ]
    }
   ],
   "source": [
    "for track in sp.playlist_tracks(playlist_URI)[\"items\"]:\n",
    "    track_name = track[\"track\"][\"name\"]\n",
    "    print(track_name)"
   ]
  }
 ],
 "metadata": {
  "kernelspec": {
   "display_name": "Python 3",
   "language": "python",
   "name": "python3"
  },
  "language_info": {
   "codemirror_mode": {
    "name": "ipython",
    "version": 3
   },
   "file_extension": ".py",
   "mimetype": "text/x-python",
   "name": "python",
   "nbconvert_exporter": "python",
   "pygments_lexer": "ipython3",
   "version": "3.12.2"
  }
 },
 "nbformat": 4,
 "nbformat_minor": 2
}
